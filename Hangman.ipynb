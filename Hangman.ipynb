{
 "cells": [
  {
   "cell_type": "code",
   "execution_count": 1,
   "metadata": {},
   "outputs": [],
   "source": [
    "import random\n",
    "import sys"
   ]
  },
  {
   "cell_type": "code",
   "execution_count": 2,
   "metadata": {},
   "outputs": [],
   "source": [
    "categories = ['animals', 'food', 'musical instruments', 'car brands', 'country capitals']"
   ]
  },
  {
   "cell_type": "code",
   "execution_count": 3,
   "metadata": {},
   "outputs": [],
   "source": [
    "categories_dict = {'animals':\n",
    "            ['antelope', 'bear', 'cat', 'dog', 'elephant', 'fox', 'giraffe', 'hyena', 'iguana', 'jaguar', 'kangaroo',\n",
    "            'llama', 'monkey', 'turtle', 'octopus', 'bee', 'rat', 'snake', 'tiger', 'unicorn', 'whale', 'zebra'],\n",
    "            'food':\n",
    "            ['bagel', 'beans', 'biscuit', 'bread', 'broth', 'burger', 'butter', 'cake', 'candy', 'caramel', 'caviar',\n",
    "            'cheese', 'chili', 'chocolate', 'cocoa', 'coffee', 'cookie', 'croissant', 'dessert', 'dish',\n",
    "            'eggs', 'fish', 'flour', 'hamburger', 'ice', 'juice', 'ketchup', 'kitchen', 'margarine', 'mayonnaise',\n",
    "            'meat', 'mousse', 'muffin', 'mushroom', 'noodle', 'oil', 'olive', 'omelette', 'pasta', 'pastry', 'pie',\n",
    "            'pizza', 'pudding', 'raclette', 'rice', 'salad', 'salsa', 'sandwich', 'sauce', 'soup', 'steak', 'tartar',\n",
    "            'toast', 'waffle', 'yogurt'],\n",
    "            'music':\n",
    "            ['Accordion', 'Banjo', 'Bongo', 'Cello', 'Clarinet', 'Cymbal', 'Drums', 'Flute', 'Gong', 'Guitar',\n",
    "            'Harmonica', 'Harp', 'Harpsichord', 'Mandolin', 'Melodica', 'Oboe', 'Ocarina', 'Organ', 'Piano',\n",
    "            'Piccolo', 'Recorder', 'Saxophone', 'Sitar', 'Synthesizer', 'Tambourine', 'Timpani', 'Triangle',\n",
    "            'Trombone', 'Trumpet', 'Tuba', 'Ukulele', 'Viola', 'Violin', 'Xylophone', 'Zither'],\n",
    "            'cars':\n",
    "            ['Audi', 'Bentley', 'Benz', 'BMW', 'Bugatti', 'Cadillac', 'Chevrolet',\n",
    "            'Chrysler', 'Citroen', 'Corvette', 'Dacia', 'Daewoo', 'Dodge', 'Ferrari', 'Fiat', 'Ford', 'Honda',\n",
    "            'Hummer', 'Hyundai', 'Jaguar', 'Jeep', 'KIA', 'Lamborghini', 'Lancia', 'Land Rover', 'Lexus',\n",
    "            'Lotus', 'Martini', 'Maserati', 'Mazda', 'McLaren', 'Mercedes', 'Mini', 'Mitsubishi',\n",
    "            'Nissan', 'Opel', 'Peugeot', 'Pontiac', 'Porsche', 'Renault', 'Saab',\n",
    "            'Seat', 'Skoda', 'Smart', 'Subaru', 'Suzuki', 'Toyota', 'Volkswagen', 'Volvo'],\n",
    "            'capitals':\n",
    "            ['KABUL', 'TIRANA', 'ALGIERS', 'LUANDA', 'YEREVAN', 'CANBERRA', 'VIENNA', 'BAKU', 'NASSAU',\n",
    "            'MANAMA', 'DHAKA', 'BRIDGETOWN', 'MINSK', 'BRUSSELS', 'BELMOPAN', 'THIMPHU', 'SUCRE', 'SARAJEVO',\n",
    "            'GABORONE', 'BRASILIA', 'SOFIA', 'OUAGADOUGOU', 'BUJUMBURA', 'PRAIA', 'YAOUNDE', 'OTTAWA',\n",
    "            'BANGUI', 'SANTIAGO', 'BEIJING', 'BOGOTA', 'MORONI', 'KINSHASA', 'YAMOUSSOUKRO',\n",
    "            'ZAGREB', 'HAVANA', 'NICOSIA', 'PRAGUE', 'COPENHAGEN', 'ROSEAU', 'QUITO', 'CAIRO', 'MALABO', 'ASMARA',\n",
    "            'TALLINN', 'MBABANE', 'PALIKIR', 'SUVA', 'HELSINKI', 'PARIS', 'LIBREVILLE', 'BANJUL', 'TBILISI', 'BERLIN',\n",
    "            'ACCRA', 'ATHENS', 'CONAKRY', 'BISSAU', 'GEORGETOWN', 'TEGUCIGALPA', 'BUDAPEST', 'REYKJAVIK', 'NEW DELHI',\n",
    "            'JAKARTA', 'TEHRAN', 'BAGHDAD', 'DUBLIN', 'ROME', 'KINGSTON', 'TOKYO', 'AMMAN', 'ASTANA', 'NAIROBI',\n",
    "            'PRISTINA', 'BISHKEK', 'VIENTIANE', 'RIGA', 'BEIRUT', 'MASERU', 'MONROVIA', 'TRIPOLI',\n",
    "            'VADUZ', 'VILNIUS', 'LUXEMBOURG', 'SKOPJE', 'ANTANANARIVO', 'LILONGWE', 'MALE', 'BAMAKO', 'VALLETTA',\n",
    "            'MAJURO', 'NOUAKCHOTT', 'CHISINAU', 'MONACO', 'ULAANBAATAR', 'PODGORICA', 'RABAT', 'MAPUTO',\n",
    "            'WINDHOEK', 'KATHMANDU', 'AMSTERDAM', 'WELLINGTON', 'MANAGUA',\n",
    "            'NIAMEY', 'ABUJA', 'PYONGYANG', 'OSLO', 'MUSCAT', 'ISLAMABAD', 'NGERULMUD',\n",
    "            'ASUNCION', 'LIMA', 'MANILA', 'WARSAW', 'LISBON', 'DOHA', 'BRAZZAVILLE', 'BUCHAREST', 'MOSCOW',\n",
    "            'KIGALI', 'BASSETERRE', 'CASTRIES', 'KINGSTOWN', 'APIA', 'RIYADH', 'DAKAR', 'BELGRADE', 'VICTORIA',\n",
    "            'FREETOWN', 'SINGAPORE', 'BRATISLAVA', 'LJUBLJANA', 'HONIARA', 'MOGADISHU', 'SEOUL', 'JUBA', 'MADRID',\n",
    "            'KHARTOUM', 'PARAMARIBO', 'STOCKHOLM', 'BERN', 'DAMASCUS', 'DUSHANBE', 'DODOMA', 'BANGKOK', 'DILI', 'LOME',\n",
    "            'TUNIS', 'ANKARA', 'ASHGABAT', 'FUNAFUTI', 'KAMPALA', 'KIEV', 'LONDON', 'MONTEVIDEO', 'TASHKENT',\n",
    "            'CARACAS', 'HANOI', 'LUSAKA', 'HARARE']}"
   ]
  },
  {
   "cell_type": "code",
   "execution_count": 4,
   "metadata": {},
   "outputs": [],
   "source": [
    "draw_1 = '''                           |------_\n",
    "                                 |_| \n",
    "                                --|--\n",
    "                                  |                                          \n",
    "                                 / \\\\'''\n",
    "# (n = 5)"
   ]
  },
  {
   "cell_type": "code",
   "execution_count": 5,
   "metadata": {},
   "outputs": [],
   "source": [
    "draw_2 = '''                           |------\n",
    "                                  |\n",
    "                                  _\n",
    "                                 |_| \n",
    "                                --|--\n",
    "                                  |                                          \n",
    "                                 / \\\\'''\n",
    "# (n = 7)"
   ]
  },
  {
   "cell_type": "code",
   "execution_count": 6,
   "metadata": {},
   "outputs": [],
   "source": [
    "draw_3 = '''                           |------\n",
    "                                  |\n",
    "                                  |\n",
    "                                  |\n",
    "                                  |\n",
    "                                  _\n",
    "                                 |_| \n",
    "                                --|--\n",
    "                                  |                                          \n",
    "                                 / \\\\'''\n",
    "# (n = 9)"
   ]
  },
  {
   "cell_type": "code",
   "execution_count": 7,
   "metadata": {},
   "outputs": [],
   "source": [
    "def config_game():\n",
    "    num_cat = input('What category do you want to play in? Choose a category number among the following list:\\n'\n",
    "                '1: animals, 2: food, 3: musical instruments, 4: car brands, 5: country capitals\\n')\n",
    "    \n",
    "#     if type(num_cat) != int:\n",
    "#         sys.exit('You have to enter a valid number!')\n",
    "    \n",
    "#     else:\n",
    "        \n",
    "    cat_dict = {1: 'animals', 2: 'food', 3: 'music', 4: 'cars', 5: 'capitals'}\n",
    "\n",
    "    cat_name = cat_dict[int(num_cat)]\n",
    "\n",
    "    return random.choice(categories_dict[cat_name]).lower()"
   ]
  },
  {
   "cell_type": "code",
   "execution_count": 8,
   "metadata": {},
   "outputs": [],
   "source": [
    "def display_word():\n",
    "    print('\\nUsed letters: ', used_letters)\n",
    "    printed_word = ''\n",
    "    for i in word:\n",
    "        if i in guessed_letters:\n",
    "            printed_word += i + ' '\n",
    "        else:\n",
    "            printed_word += '_ '\n",
    "    print(printed_word)"
   ]
  },
  {
   "cell_type": "code",
   "execution_count": 9,
   "metadata": {},
   "outputs": [],
   "source": [
    "def draw_hangman():\n",
    "    if max_mistakes == 5:\n",
    "        for i in range(mistakes):\n",
    "            print(draw_1.split('\\n')[i])\n",
    "    elif max_mistakes == 7:\n",
    "        for i in range(mistakes):\n",
    "            print(draw_2.split('\\n')[i])\n",
    "    else:\n",
    "        for i in range(mistakes):\n",
    "            print(draw_3.split('\\n')[i])"
   ]
  },
  {
   "cell_type": "code",
   "execution_count": 10,
   "metadata": {},
   "outputs": [],
   "source": [
    "def game_diff():\n",
    "    global max_mistakes\n",
    "    if 3 < len(word) < 6:\n",
    "        max_mistakes = 5\n",
    "    elif 5 < len(word) < 9:\n",
    "        max_mistakes = 7\n",
    "    else:\n",
    "        max_mistakes = 9"
   ]
  },
  {
   "cell_type": "code",
   "execution_count": 11,
   "metadata": {},
   "outputs": [],
   "source": [
    "def play():\n",
    "    global mistakes\n",
    "    game_diff()\n",
    "    for chance in range(len(word)*2):\n",
    "        if mistakes == max_mistakes:\n",
    "            break\n",
    "        if not word_letters:\n",
    "            print('Congratulations, you guessed the word!')\n",
    "            break\n",
    "        display_word()\n",
    "        guess = input('\\nPlease choose a letter: \\n')\n",
    "        if not guess.isalpha():\n",
    "            return 'You have to enter a valid letter!!!'\n",
    "        if guess in word_letters:\n",
    "            word_letters.remove(guess)\n",
    "            used_letters.append(guess)\n",
    "            guessed_letters.append(guess)\n",
    "        else:\n",
    "            used_letters.append(guess)\n",
    "            mistakes += 1\n",
    "        draw_hangman()\n",
    "    if word_letters:\n",
    "        print(f'Game over! The word was {word}')"
   ]
  },
  {
   "cell_type": "code",
   "execution_count": 12,
   "metadata": {
    "scrolled": true
   },
   "outputs": [
    {
     "name": "stdout",
     "output_type": "stream",
     "text": [
      "What category do you want to play in? Choose a category number among the following list:\n",
      "1: animals, 2: food, 3: musical instruments, 4: car brands, 5: country capitals\n",
      "1\n"
     ]
    }
   ],
   "source": [
    "word = config_game()\n",
    "word_letters = set(word)\n",
    "used_letters = []\n",
    "guessed_letters = []\n",
    "mistakes = 0\n",
    "diff = ''\n",
    "max_mistakes = 0"
   ]
  },
  {
   "cell_type": "code",
   "execution_count": 13,
   "metadata": {},
   "outputs": [
    {
     "name": "stdout",
     "output_type": "stream",
     "text": [
      "\n",
      "Used letters:  []\n",
      "_ _ _ _ _ \n",
      "\n",
      "Please choose a letter: \n",
      "a\n",
      "\n",
      "Used letters:  ['a']\n",
      "_ _ a _ _ \n",
      "\n",
      "Please choose a letter: \n",
      "l\n",
      "\n",
      "Used letters:  ['a', 'l']\n",
      "_ _ a l _ \n",
      "\n",
      "Please choose a letter: \n",
      "z\n",
      "                           |------_\n",
      "\n",
      "Used letters:  ['a', 'l', 'z']\n",
      "_ _ a l _ \n",
      "\n",
      "Please choose a letter: \n",
      "z\n",
      "                           |------_\n",
      "                                 |_| \n",
      "\n",
      "Used letters:  ['a', 'l', 'z', 'z']\n",
      "_ _ a l _ \n",
      "\n",
      "Please choose a letter: \n",
      "z\n",
      "                           |------_\n",
      "                                 |_| \n",
      "                                --|--\n",
      "\n",
      "Used letters:  ['a', 'l', 'z', 'z', 'z']\n",
      "_ _ a l _ \n",
      "\n",
      "Please choose a letter: \n",
      "z\n",
      "                           |------_\n",
      "                                 |_| \n",
      "                                --|--\n",
      "                                  |                                          \n",
      "\n",
      "Used letters:  ['a', 'l', 'z', 'z', 'z', 'z']\n",
      "_ _ a l _ \n",
      "\n",
      "Please choose a letter: \n",
      "z\n",
      "                           |------_\n",
      "                                 |_| \n",
      "                                --|--\n",
      "                                  |                                          \n",
      "                                 / \\\n",
      "Game over! The word was whale\n"
     ]
    }
   ],
   "source": [
    "play()"
   ]
  },
  {
   "cell_type": "code",
   "execution_count": null,
   "metadata": {},
   "outputs": [],
   "source": []
  }
 ],
 "metadata": {
  "kernelspec": {
   "display_name": "Python 3",
   "language": "python",
   "name": "python3"
  },
  "language_info": {
   "codemirror_mode": {
    "name": "ipython",
    "version": 3
   },
   "file_extension": ".py",
   "mimetype": "text/x-python",
   "name": "python",
   "nbconvert_exporter": "python",
   "pygments_lexer": "ipython3",
   "version": "3.7.2"
  }
 },
 "nbformat": 4,
 "nbformat_minor": 2
}
